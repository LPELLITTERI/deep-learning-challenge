{
  "cells": [
    {
      "cell_type": "markdown",
      "metadata": {
        "id": "KPZrLISA3O6_"
      },
      "source": [
        "## Preprocessing"
      ]
    },
    {
      "cell_type": "code",
      "execution_count": 69,
      "metadata": {
        "colab": {
          "base_uri": "https://localhost:8080/",
          "height": 489
        },
        "id": "f2P4W1tb3O7D",
        "outputId": "969e4235-3556-4caf-f9f0-964fb81f58fa"
      },
      "outputs": [
        {
          "output_type": "execute_result",
          "data": {
            "text/plain": [
              "        EIN                                      NAME APPLICATION_TYPE  \\\n",
              "0  10520599              BLUE KNIGHTS MOTORCYCLE CLUB              T10   \n",
              "1  10531628    AMERICAN CHESAPEAKE CLUB CHARITABLE TR               T3   \n",
              "2  10547893        ST CLOUD PROFESSIONAL FIREFIGHTERS               T5   \n",
              "3  10553066            SOUTHSIDE ATHLETIC ASSOCIATION               T3   \n",
              "4  10556103  GENETIC RESEARCH INSTITUTE OF THE DESERT               T3   \n",
              "\n",
              "        AFFILIATION CLASSIFICATION      USE_CASE  ORGANIZATION  STATUS  \\\n",
              "0       Independent          C1000    ProductDev   Association       1   \n",
              "1       Independent          C2000  Preservation  Co-operative       1   \n",
              "2  CompanySponsored          C3000    ProductDev   Association       1   \n",
              "3  CompanySponsored          C2000  Preservation         Trust       1   \n",
              "4       Independent          C1000     Heathcare         Trust       1   \n",
              "\n",
              "      INCOME_AMT SPECIAL_CONSIDERATIONS  ASK_AMT  IS_SUCCESSFUL  \n",
              "0              0                      N     5000              1  \n",
              "1         1-9999                      N   108590              1  \n",
              "2              0                      N     5000              0  \n",
              "3    10000-24999                      N     6692              1  \n",
              "4  100000-499999                      N   142590              1  "
            ],
            "text/html": [
              "\n",
              "  <div id=\"df-9b0acc3a-6a49-4563-8550-37aadbb71b08\">\n",
              "    <div class=\"colab-df-container\">\n",
              "      <div>\n",
              "<style scoped>\n",
              "    .dataframe tbody tr th:only-of-type {\n",
              "        vertical-align: middle;\n",
              "    }\n",
              "\n",
              "    .dataframe tbody tr th {\n",
              "        vertical-align: top;\n",
              "    }\n",
              "\n",
              "    .dataframe thead th {\n",
              "        text-align: right;\n",
              "    }\n",
              "</style>\n",
              "<table border=\"1\" class=\"dataframe\">\n",
              "  <thead>\n",
              "    <tr style=\"text-align: right;\">\n",
              "      <th></th>\n",
              "      <th>EIN</th>\n",
              "      <th>NAME</th>\n",
              "      <th>APPLICATION_TYPE</th>\n",
              "      <th>AFFILIATION</th>\n",
              "      <th>CLASSIFICATION</th>\n",
              "      <th>USE_CASE</th>\n",
              "      <th>ORGANIZATION</th>\n",
              "      <th>STATUS</th>\n",
              "      <th>INCOME_AMT</th>\n",
              "      <th>SPECIAL_CONSIDERATIONS</th>\n",
              "      <th>ASK_AMT</th>\n",
              "      <th>IS_SUCCESSFUL</th>\n",
              "    </tr>\n",
              "  </thead>\n",
              "  <tbody>\n",
              "    <tr>\n",
              "      <th>0</th>\n",
              "      <td>10520599</td>\n",
              "      <td>BLUE KNIGHTS MOTORCYCLE CLUB</td>\n",
              "      <td>T10</td>\n",
              "      <td>Independent</td>\n",
              "      <td>C1000</td>\n",
              "      <td>ProductDev</td>\n",
              "      <td>Association</td>\n",
              "      <td>1</td>\n",
              "      <td>0</td>\n",
              "      <td>N</td>\n",
              "      <td>5000</td>\n",
              "      <td>1</td>\n",
              "    </tr>\n",
              "    <tr>\n",
              "      <th>1</th>\n",
              "      <td>10531628</td>\n",
              "      <td>AMERICAN CHESAPEAKE CLUB CHARITABLE TR</td>\n",
              "      <td>T3</td>\n",
              "      <td>Independent</td>\n",
              "      <td>C2000</td>\n",
              "      <td>Preservation</td>\n",
              "      <td>Co-operative</td>\n",
              "      <td>1</td>\n",
              "      <td>1-9999</td>\n",
              "      <td>N</td>\n",
              "      <td>108590</td>\n",
              "      <td>1</td>\n",
              "    </tr>\n",
              "    <tr>\n",
              "      <th>2</th>\n",
              "      <td>10547893</td>\n",
              "      <td>ST CLOUD PROFESSIONAL FIREFIGHTERS</td>\n",
              "      <td>T5</td>\n",
              "      <td>CompanySponsored</td>\n",
              "      <td>C3000</td>\n",
              "      <td>ProductDev</td>\n",
              "      <td>Association</td>\n",
              "      <td>1</td>\n",
              "      <td>0</td>\n",
              "      <td>N</td>\n",
              "      <td>5000</td>\n",
              "      <td>0</td>\n",
              "    </tr>\n",
              "    <tr>\n",
              "      <th>3</th>\n",
              "      <td>10553066</td>\n",
              "      <td>SOUTHSIDE ATHLETIC ASSOCIATION</td>\n",
              "      <td>T3</td>\n",
              "      <td>CompanySponsored</td>\n",
              "      <td>C2000</td>\n",
              "      <td>Preservation</td>\n",
              "      <td>Trust</td>\n",
              "      <td>1</td>\n",
              "      <td>10000-24999</td>\n",
              "      <td>N</td>\n",
              "      <td>6692</td>\n",
              "      <td>1</td>\n",
              "    </tr>\n",
              "    <tr>\n",
              "      <th>4</th>\n",
              "      <td>10556103</td>\n",
              "      <td>GENETIC RESEARCH INSTITUTE OF THE DESERT</td>\n",
              "      <td>T3</td>\n",
              "      <td>Independent</td>\n",
              "      <td>C1000</td>\n",
              "      <td>Heathcare</td>\n",
              "      <td>Trust</td>\n",
              "      <td>1</td>\n",
              "      <td>100000-499999</td>\n",
              "      <td>N</td>\n",
              "      <td>142590</td>\n",
              "      <td>1</td>\n",
              "    </tr>\n",
              "  </tbody>\n",
              "</table>\n",
              "</div>\n",
              "      <button class=\"colab-df-convert\" onclick=\"convertToInteractive('df-9b0acc3a-6a49-4563-8550-37aadbb71b08')\"\n",
              "              title=\"Convert this dataframe to an interactive table.\"\n",
              "              style=\"display:none;\">\n",
              "        \n",
              "  <svg xmlns=\"http://www.w3.org/2000/svg\" height=\"24px\"viewBox=\"0 0 24 24\"\n",
              "       width=\"24px\">\n",
              "    <path d=\"M0 0h24v24H0V0z\" fill=\"none\"/>\n",
              "    <path d=\"M18.56 5.44l.94 2.06.94-2.06 2.06-.94-2.06-.94-.94-2.06-.94 2.06-2.06.94zm-11 1L8.5 8.5l.94-2.06 2.06-.94-2.06-.94L8.5 2.5l-.94 2.06-2.06.94zm10 10l.94 2.06.94-2.06 2.06-.94-2.06-.94-.94-2.06-.94 2.06-2.06.94z\"/><path d=\"M17.41 7.96l-1.37-1.37c-.4-.4-.92-.59-1.43-.59-.52 0-1.04.2-1.43.59L10.3 9.45l-7.72 7.72c-.78.78-.78 2.05 0 2.83L4 21.41c.39.39.9.59 1.41.59.51 0 1.02-.2 1.41-.59l7.78-7.78 2.81-2.81c.8-.78.8-2.07 0-2.86zM5.41 20L4 18.59l7.72-7.72 1.47 1.35L5.41 20z\"/>\n",
              "  </svg>\n",
              "      </button>\n",
              "      \n",
              "  <style>\n",
              "    .colab-df-container {\n",
              "      display:flex;\n",
              "      flex-wrap:wrap;\n",
              "      gap: 12px;\n",
              "    }\n",
              "\n",
              "    .colab-df-convert {\n",
              "      background-color: #E8F0FE;\n",
              "      border: none;\n",
              "      border-radius: 50%;\n",
              "      cursor: pointer;\n",
              "      display: none;\n",
              "      fill: #1967D2;\n",
              "      height: 32px;\n",
              "      padding: 0 0 0 0;\n",
              "      width: 32px;\n",
              "    }\n",
              "\n",
              "    .colab-df-convert:hover {\n",
              "      background-color: #E2EBFA;\n",
              "      box-shadow: 0px 1px 2px rgba(60, 64, 67, 0.3), 0px 1px 3px 1px rgba(60, 64, 67, 0.15);\n",
              "      fill: #174EA6;\n",
              "    }\n",
              "\n",
              "    [theme=dark] .colab-df-convert {\n",
              "      background-color: #3B4455;\n",
              "      fill: #D2E3FC;\n",
              "    }\n",
              "\n",
              "    [theme=dark] .colab-df-convert:hover {\n",
              "      background-color: #434B5C;\n",
              "      box-shadow: 0px 1px 3px 1px rgba(0, 0, 0, 0.15);\n",
              "      filter: drop-shadow(0px 1px 2px rgba(0, 0, 0, 0.3));\n",
              "      fill: #FFFFFF;\n",
              "    }\n",
              "  </style>\n",
              "\n",
              "      <script>\n",
              "        const buttonEl =\n",
              "          document.querySelector('#df-9b0acc3a-6a49-4563-8550-37aadbb71b08 button.colab-df-convert');\n",
              "        buttonEl.style.display =\n",
              "          google.colab.kernel.accessAllowed ? 'block' : 'none';\n",
              "\n",
              "        async function convertToInteractive(key) {\n",
              "          const element = document.querySelector('#df-9b0acc3a-6a49-4563-8550-37aadbb71b08');\n",
              "          const dataTable =\n",
              "            await google.colab.kernel.invokeFunction('convertToInteractive',\n",
              "                                                     [key], {});\n",
              "          if (!dataTable) return;\n",
              "\n",
              "          const docLinkHtml = 'Like what you see? Visit the ' +\n",
              "            '<a target=\"_blank\" href=https://colab.research.google.com/notebooks/data_table.ipynb>data table notebook</a>'\n",
              "            + ' to learn more about interactive tables.';\n",
              "          element.innerHTML = '';\n",
              "          dataTable['output_type'] = 'display_data';\n",
              "          await google.colab.output.renderOutput(dataTable, element);\n",
              "          const docLink = document.createElement('div');\n",
              "          docLink.innerHTML = docLinkHtml;\n",
              "          element.appendChild(docLink);\n",
              "        }\n",
              "      </script>\n",
              "    </div>\n",
              "  </div>\n",
              "  "
            ]
          },
          "metadata": {},
          "execution_count": 69
        }
      ],
      "source": [
        "# Import our dependencies\n",
        "from sklearn.model_selection import train_test_split\n",
        "from sklearn.preprocessing import StandardScaler\n",
        "import pandas as pd\n",
        "import tensorflow as tf\n",
        "from keras.models import Sequential\n",
        "from keras.layers import Dense\n",
        "\n",
        "#  Import and read the charity_data.csv.\n",
        "import pandas as pd \n",
        "application_df = pd.read_csv(\"https://static.bc-edx.com/data/dl-1-2/m21/lms/starter/charity_data.csv\")\n",
        "application_df.head()"
      ]
    },
    {
      "cell_type": "code",
      "execution_count": 70,
      "metadata": {
        "colab": {
          "base_uri": "https://localhost:8080/",
          "height": 419
        },
        "id": "WbYsebuP3O7F",
        "outputId": "9b1f82f1-caf2-473e-9d25-ee023a3ac89a"
      },
      "outputs": [
        {
          "output_type": "execute_result",
          "data": {
            "text/plain": [
              "      APPLICATION_TYPE       AFFILIATION CLASSIFICATION      USE_CASE  \\\n",
              "0                  T10       Independent          C1000    ProductDev   \n",
              "1                   T3       Independent          C2000  Preservation   \n",
              "2                   T5  CompanySponsored          C3000    ProductDev   \n",
              "3                   T3  CompanySponsored          C2000  Preservation   \n",
              "4                   T3       Independent          C1000     Heathcare   \n",
              "...                ...               ...            ...           ...   \n",
              "34294               T4       Independent          C1000    ProductDev   \n",
              "34295               T4  CompanySponsored          C3000    ProductDev   \n",
              "34296               T3  CompanySponsored          C2000  Preservation   \n",
              "34297               T5       Independent          C3000    ProductDev   \n",
              "34298               T3       Independent          C1000  Preservation   \n",
              "\n",
              "       ORGANIZATION  STATUS     INCOME_AMT SPECIAL_CONSIDERATIONS   ASK_AMT  \\\n",
              "0       Association       1              0                      N      5000   \n",
              "1      Co-operative       1         1-9999                      N    108590   \n",
              "2       Association       1              0                      N      5000   \n",
              "3             Trust       1    10000-24999                      N      6692   \n",
              "4             Trust       1  100000-499999                      N    142590   \n",
              "...             ...     ...            ...                    ...       ...   \n",
              "34294   Association       1              0                      N      5000   \n",
              "34295   Association       1              0                      N      5000   \n",
              "34296   Association       1              0                      N      5000   \n",
              "34297   Association       1              0                      N      5000   \n",
              "34298  Co-operative       1          1M-5M                      N  36500179   \n",
              "\n",
              "       IS_SUCCESSFUL  \n",
              "0                  1  \n",
              "1                  1  \n",
              "2                  0  \n",
              "3                  1  \n",
              "4                  1  \n",
              "...              ...  \n",
              "34294              0  \n",
              "34295              0  \n",
              "34296              0  \n",
              "34297              1  \n",
              "34298              0  \n",
              "\n",
              "[34299 rows x 10 columns]"
            ],
            "text/html": [
              "\n",
              "  <div id=\"df-c1ab3a53-114f-46c9-a3d5-1f4b863395a5\">\n",
              "    <div class=\"colab-df-container\">\n",
              "      <div>\n",
              "<style scoped>\n",
              "    .dataframe tbody tr th:only-of-type {\n",
              "        vertical-align: middle;\n",
              "    }\n",
              "\n",
              "    .dataframe tbody tr th {\n",
              "        vertical-align: top;\n",
              "    }\n",
              "\n",
              "    .dataframe thead th {\n",
              "        text-align: right;\n",
              "    }\n",
              "</style>\n",
              "<table border=\"1\" class=\"dataframe\">\n",
              "  <thead>\n",
              "    <tr style=\"text-align: right;\">\n",
              "      <th></th>\n",
              "      <th>APPLICATION_TYPE</th>\n",
              "      <th>AFFILIATION</th>\n",
              "      <th>CLASSIFICATION</th>\n",
              "      <th>USE_CASE</th>\n",
              "      <th>ORGANIZATION</th>\n",
              "      <th>STATUS</th>\n",
              "      <th>INCOME_AMT</th>\n",
              "      <th>SPECIAL_CONSIDERATIONS</th>\n",
              "      <th>ASK_AMT</th>\n",
              "      <th>IS_SUCCESSFUL</th>\n",
              "    </tr>\n",
              "  </thead>\n",
              "  <tbody>\n",
              "    <tr>\n",
              "      <th>0</th>\n",
              "      <td>T10</td>\n",
              "      <td>Independent</td>\n",
              "      <td>C1000</td>\n",
              "      <td>ProductDev</td>\n",
              "      <td>Association</td>\n",
              "      <td>1</td>\n",
              "      <td>0</td>\n",
              "      <td>N</td>\n",
              "      <td>5000</td>\n",
              "      <td>1</td>\n",
              "    </tr>\n",
              "    <tr>\n",
              "      <th>1</th>\n",
              "      <td>T3</td>\n",
              "      <td>Independent</td>\n",
              "      <td>C2000</td>\n",
              "      <td>Preservation</td>\n",
              "      <td>Co-operative</td>\n",
              "      <td>1</td>\n",
              "      <td>1-9999</td>\n",
              "      <td>N</td>\n",
              "      <td>108590</td>\n",
              "      <td>1</td>\n",
              "    </tr>\n",
              "    <tr>\n",
              "      <th>2</th>\n",
              "      <td>T5</td>\n",
              "      <td>CompanySponsored</td>\n",
              "      <td>C3000</td>\n",
              "      <td>ProductDev</td>\n",
              "      <td>Association</td>\n",
              "      <td>1</td>\n",
              "      <td>0</td>\n",
              "      <td>N</td>\n",
              "      <td>5000</td>\n",
              "      <td>0</td>\n",
              "    </tr>\n",
              "    <tr>\n",
              "      <th>3</th>\n",
              "      <td>T3</td>\n",
              "      <td>CompanySponsored</td>\n",
              "      <td>C2000</td>\n",
              "      <td>Preservation</td>\n",
              "      <td>Trust</td>\n",
              "      <td>1</td>\n",
              "      <td>10000-24999</td>\n",
              "      <td>N</td>\n",
              "      <td>6692</td>\n",
              "      <td>1</td>\n",
              "    </tr>\n",
              "    <tr>\n",
              "      <th>4</th>\n",
              "      <td>T3</td>\n",
              "      <td>Independent</td>\n",
              "      <td>C1000</td>\n",
              "      <td>Heathcare</td>\n",
              "      <td>Trust</td>\n",
              "      <td>1</td>\n",
              "      <td>100000-499999</td>\n",
              "      <td>N</td>\n",
              "      <td>142590</td>\n",
              "      <td>1</td>\n",
              "    </tr>\n",
              "    <tr>\n",
              "      <th>...</th>\n",
              "      <td>...</td>\n",
              "      <td>...</td>\n",
              "      <td>...</td>\n",
              "      <td>...</td>\n",
              "      <td>...</td>\n",
              "      <td>...</td>\n",
              "      <td>...</td>\n",
              "      <td>...</td>\n",
              "      <td>...</td>\n",
              "      <td>...</td>\n",
              "    </tr>\n",
              "    <tr>\n",
              "      <th>34294</th>\n",
              "      <td>T4</td>\n",
              "      <td>Independent</td>\n",
              "      <td>C1000</td>\n",
              "      <td>ProductDev</td>\n",
              "      <td>Association</td>\n",
              "      <td>1</td>\n",
              "      <td>0</td>\n",
              "      <td>N</td>\n",
              "      <td>5000</td>\n",
              "      <td>0</td>\n",
              "    </tr>\n",
              "    <tr>\n",
              "      <th>34295</th>\n",
              "      <td>T4</td>\n",
              "      <td>CompanySponsored</td>\n",
              "      <td>C3000</td>\n",
              "      <td>ProductDev</td>\n",
              "      <td>Association</td>\n",
              "      <td>1</td>\n",
              "      <td>0</td>\n",
              "      <td>N</td>\n",
              "      <td>5000</td>\n",
              "      <td>0</td>\n",
              "    </tr>\n",
              "    <tr>\n",
              "      <th>34296</th>\n",
              "      <td>T3</td>\n",
              "      <td>CompanySponsored</td>\n",
              "      <td>C2000</td>\n",
              "      <td>Preservation</td>\n",
              "      <td>Association</td>\n",
              "      <td>1</td>\n",
              "      <td>0</td>\n",
              "      <td>N</td>\n",
              "      <td>5000</td>\n",
              "      <td>0</td>\n",
              "    </tr>\n",
              "    <tr>\n",
              "      <th>34297</th>\n",
              "      <td>T5</td>\n",
              "      <td>Independent</td>\n",
              "      <td>C3000</td>\n",
              "      <td>ProductDev</td>\n",
              "      <td>Association</td>\n",
              "      <td>1</td>\n",
              "      <td>0</td>\n",
              "      <td>N</td>\n",
              "      <td>5000</td>\n",
              "      <td>1</td>\n",
              "    </tr>\n",
              "    <tr>\n",
              "      <th>34298</th>\n",
              "      <td>T3</td>\n",
              "      <td>Independent</td>\n",
              "      <td>C1000</td>\n",
              "      <td>Preservation</td>\n",
              "      <td>Co-operative</td>\n",
              "      <td>1</td>\n",
              "      <td>1M-5M</td>\n",
              "      <td>N</td>\n",
              "      <td>36500179</td>\n",
              "      <td>0</td>\n",
              "    </tr>\n",
              "  </tbody>\n",
              "</table>\n",
              "<p>34299 rows × 10 columns</p>\n",
              "</div>\n",
              "      <button class=\"colab-df-convert\" onclick=\"convertToInteractive('df-c1ab3a53-114f-46c9-a3d5-1f4b863395a5')\"\n",
              "              title=\"Convert this dataframe to an interactive table.\"\n",
              "              style=\"display:none;\">\n",
              "        \n",
              "  <svg xmlns=\"http://www.w3.org/2000/svg\" height=\"24px\"viewBox=\"0 0 24 24\"\n",
              "       width=\"24px\">\n",
              "    <path d=\"M0 0h24v24H0V0z\" fill=\"none\"/>\n",
              "    <path d=\"M18.56 5.44l.94 2.06.94-2.06 2.06-.94-2.06-.94-.94-2.06-.94 2.06-2.06.94zm-11 1L8.5 8.5l.94-2.06 2.06-.94-2.06-.94L8.5 2.5l-.94 2.06-2.06.94zm10 10l.94 2.06.94-2.06 2.06-.94-2.06-.94-.94-2.06-.94 2.06-2.06.94z\"/><path d=\"M17.41 7.96l-1.37-1.37c-.4-.4-.92-.59-1.43-.59-.52 0-1.04.2-1.43.59L10.3 9.45l-7.72 7.72c-.78.78-.78 2.05 0 2.83L4 21.41c.39.39.9.59 1.41.59.51 0 1.02-.2 1.41-.59l7.78-7.78 2.81-2.81c.8-.78.8-2.07 0-2.86zM5.41 20L4 18.59l7.72-7.72 1.47 1.35L5.41 20z\"/>\n",
              "  </svg>\n",
              "      </button>\n",
              "      \n",
              "  <style>\n",
              "    .colab-df-container {\n",
              "      display:flex;\n",
              "      flex-wrap:wrap;\n",
              "      gap: 12px;\n",
              "    }\n",
              "\n",
              "    .colab-df-convert {\n",
              "      background-color: #E8F0FE;\n",
              "      border: none;\n",
              "      border-radius: 50%;\n",
              "      cursor: pointer;\n",
              "      display: none;\n",
              "      fill: #1967D2;\n",
              "      height: 32px;\n",
              "      padding: 0 0 0 0;\n",
              "      width: 32px;\n",
              "    }\n",
              "\n",
              "    .colab-df-convert:hover {\n",
              "      background-color: #E2EBFA;\n",
              "      box-shadow: 0px 1px 2px rgba(60, 64, 67, 0.3), 0px 1px 3px 1px rgba(60, 64, 67, 0.15);\n",
              "      fill: #174EA6;\n",
              "    }\n",
              "\n",
              "    [theme=dark] .colab-df-convert {\n",
              "      background-color: #3B4455;\n",
              "      fill: #D2E3FC;\n",
              "    }\n",
              "\n",
              "    [theme=dark] .colab-df-convert:hover {\n",
              "      background-color: #434B5C;\n",
              "      box-shadow: 0px 1px 3px 1px rgba(0, 0, 0, 0.15);\n",
              "      filter: drop-shadow(0px 1px 2px rgba(0, 0, 0, 0.3));\n",
              "      fill: #FFFFFF;\n",
              "    }\n",
              "  </style>\n",
              "\n",
              "      <script>\n",
              "        const buttonEl =\n",
              "          document.querySelector('#df-c1ab3a53-114f-46c9-a3d5-1f4b863395a5 button.colab-df-convert');\n",
              "        buttonEl.style.display =\n",
              "          google.colab.kernel.accessAllowed ? 'block' : 'none';\n",
              "\n",
              "        async function convertToInteractive(key) {\n",
              "          const element = document.querySelector('#df-c1ab3a53-114f-46c9-a3d5-1f4b863395a5');\n",
              "          const dataTable =\n",
              "            await google.colab.kernel.invokeFunction('convertToInteractive',\n",
              "                                                     [key], {});\n",
              "          if (!dataTable) return;\n",
              "\n",
              "          const docLinkHtml = 'Like what you see? Visit the ' +\n",
              "            '<a target=\"_blank\" href=https://colab.research.google.com/notebooks/data_table.ipynb>data table notebook</a>'\n",
              "            + ' to learn more about interactive tables.';\n",
              "          element.innerHTML = '';\n",
              "          dataTable['output_type'] = 'display_data';\n",
              "          await google.colab.output.renderOutput(dataTable, element);\n",
              "          const docLink = document.createElement('div');\n",
              "          docLink.innerHTML = docLinkHtml;\n",
              "          element.appendChild(docLink);\n",
              "        }\n",
              "      </script>\n",
              "    </div>\n",
              "  </div>\n",
              "  "
            ]
          },
          "metadata": {},
          "execution_count": 70
        }
      ],
      "source": [
        "# Drop the non-beneficial ID columns, 'EIN' and 'NAME'.\n",
        "drop_df = application_df.drop(['EIN','NAME'], axis=1)\n",
        "drop_df"
      ]
    },
    {
      "cell_type": "code",
      "execution_count": 71,
      "metadata": {
        "colab": {
          "base_uri": "https://localhost:8080/"
        },
        "id": "J39bTO-Y3O7F",
        "outputId": "1d301030-26fa-4980-efab-11152a9b0e95"
      },
      "outputs": [
        {
          "output_type": "execute_result",
          "data": {
            "text/plain": [
              "APPLICATION_TYPE            17\n",
              "AFFILIATION                  6\n",
              "CLASSIFICATION              71\n",
              "USE_CASE                     5\n",
              "ORGANIZATION                 4\n",
              "STATUS                       2\n",
              "INCOME_AMT                   9\n",
              "SPECIAL_CONSIDERATIONS       2\n",
              "ASK_AMT                   8747\n",
              "IS_SUCCESSFUL                2\n",
              "dtype: int64"
            ]
          },
          "metadata": {},
          "execution_count": 71
        }
      ],
      "source": [
        "# Determine the number of unique values in each column.\n",
        "drop_df.nunique()"
      ]
    },
    {
      "cell_type": "code",
      "execution_count": 4,
      "metadata": {
        "colab": {
          "base_uri": "https://localhost:8080/"
        },
        "id": "qGilnkgd3O7G",
        "outputId": "d0ba362c-2f15-493d-a188-73ba7680a42b"
      },
      "outputs": [
        {
          "output_type": "execute_result",
          "data": {
            "text/plain": [
              "APPLICATION_TYPE\n",
              "T3     27037\n",
              "T4      1542\n",
              "T6      1216\n",
              "T5      1173\n",
              "T19     1065\n",
              "T8       737\n",
              "T7       725\n",
              "T10      528\n",
              "T9       156\n",
              "T13       66\n",
              "T12       27\n",
              "T2        16\n",
              "T14        3\n",
              "T25        3\n",
              "T29        2\n",
              "T15        2\n",
              "T17        1\n",
              "dtype: int64"
            ]
          },
          "metadata": {},
          "execution_count": 4
        }
      ],
      "source": [
        "# Look at APPLICATION_TYPE value counts for binning\n",
        "drop_df.value_counts(\"APPLICATION_TYPE\")"
      ]
    },
    {
      "cell_type": "code",
      "execution_count": 72,
      "metadata": {
        "colab": {
          "base_uri": "https://localhost:8080/"
        },
        "id": "N4Xwxp-e3O7G",
        "outputId": "653b8387-625f-4068-fe10-3091f9e4c464"
      },
      "outputs": [
        {
          "output_type": "execute_result",
          "data": {
            "text/plain": [
              "T3       27037\n",
              "T4        1542\n",
              "T6        1216\n",
              "T5        1173\n",
              "T19       1065\n",
              "T8         737\n",
              "T7         725\n",
              "T10        528\n",
              "T9         156\n",
              "Other      120\n",
              "Name: APPLICATION_TYPE, dtype: int64"
            ]
          },
          "metadata": {},
          "execution_count": 72
        }
      ],
      "source": [
        "# Choose a cutoff value and create a list of application types to be replaced\n",
        "cutoff_value = 100\n",
        "\n",
        "# use the variable name `application_types_to_replace`\n",
        "application_types_to_replace = []\n",
        "\n",
        "# Find application types occurring less frequently than the cutoff value\n",
        "application_counts = application_df['APPLICATION_TYPE'].value_counts()\n",
        "application_types_to_replace = application_counts[application_counts < cutoff_value].index.tolist()\n",
        "\n",
        "# Replace in dataframe\n",
        "for app in application_types_to_replace:\n",
        "    drop_df['APPLICATION_TYPE'] = drop_df['APPLICATION_TYPE'].replace(app,\"Other\")\n",
        "\n",
        "# Check to make sure binning was successful\n",
        "drop_df['APPLICATION_TYPE'].value_counts()"
      ]
    },
    {
      "cell_type": "code",
      "execution_count": 73,
      "metadata": {
        "colab": {
          "base_uri": "https://localhost:8080/"
        },
        "id": "BnOS0Sc83O7H",
        "outputId": "2d381a5b-8357-4ef5-d49c-7e5038d015c2"
      },
      "outputs": [
        {
          "output_type": "execute_result",
          "data": {
            "text/plain": [
              "CLASSIFICATION\n",
              "C1000    17326\n",
              "C2000     6074\n",
              "C1200     4837\n",
              "C3000     1918\n",
              "C2100     1883\n",
              "         ...  \n",
              "C2190        1\n",
              "C2380        1\n",
              "C2500        1\n",
              "C2561        1\n",
              "C8210        1\n",
              "Length: 71, dtype: int64"
            ]
          },
          "metadata": {},
          "execution_count": 73
        }
      ],
      "source": [
        "# Look at CLASSIFICATION value counts for binning\n",
        "drop_df.value_counts(\"CLASSIFICATION\")"
      ]
    },
    {
      "cell_type": "code",
      "execution_count": 74,
      "metadata": {
        "colab": {
          "base_uri": "https://localhost:8080/"
        },
        "id": "hbMHmgL23O7H",
        "outputId": "8e471a15-0a05-4a53-c05c-7b9676b7a690"
      },
      "outputs": [
        {
          "output_type": "execute_result",
          "data": {
            "text/plain": [
              "CLASSIFICATION\n",
              "C1000     True\n",
              "C2000     True\n",
              "C1200     True\n",
              "C3000     True\n",
              "C2100     True\n",
              "         ...  \n",
              "C2190    False\n",
              "C2380    False\n",
              "C2500    False\n",
              "C2561    False\n",
              "C8210    False\n",
              "Length: 71, dtype: bool"
            ]
          },
          "metadata": {},
          "execution_count": 74
        }
      ],
      "source": [
        "# You may find it helpful to look at CLASSIFICATION value counts >1\n",
        "drop_df.value_counts(\"CLASSIFICATION\") >1"
      ]
    },
    {
      "cell_type": "code",
      "execution_count": 75,
      "metadata": {
        "id": "tozRY48F3O7I",
        "outputId": "88048b8e-38f3-4378-fefb-0a93b71ffca1",
        "colab": {
          "base_uri": "https://localhost:8080/"
        }
      },
      "outputs": [
        {
          "output_type": "execute_result",
          "data": {
            "text/plain": [
              "C1000    17326\n",
              "C2000     6074\n",
              "C1200     4837\n",
              "C3000     1918\n",
              "C2100     1883\n",
              "C7000      777\n",
              "Other      669\n",
              "C1700      287\n",
              "C4000      194\n",
              "C5000      116\n",
              "C1270      114\n",
              "C2700      104\n",
              "Name: CLASSIFICATION, dtype: int64"
            ]
          },
          "metadata": {},
          "execution_count": 75
        }
      ],
      "source": [
        "# Choose a cutoff value and create a list of classifications to be replaced\n",
        "cutoff_value = 100\n",
        "# use the variable name `classifications_to_replace`\n",
        "classifications_to_replace = []\n",
        "#  YOUR CODE GOES HERE\n",
        "# Find application types occurring less frequently than the cutoff value\n",
        "classification_counts = application_df['CLASSIFICATION'].value_counts()\n",
        "classifications_to_replace = classification_counts[classification_counts < cutoff_value].index.tolist()\n",
        "\n",
        "# Replace in dataframe\n",
        "for cls in classifications_to_replace:\n",
        "    drop_df['CLASSIFICATION'] = drop_df['CLASSIFICATION'].replace(cls,\"Other\")\n",
        "    \n",
        "# Check to make sure binning was successful\n",
        "drop_df['CLASSIFICATION'].value_counts()"
      ]
    },
    {
      "cell_type": "code",
      "execution_count": 76,
      "metadata": {
        "id": "cDevV9yA3O7I",
        "colab": {
          "base_uri": "https://localhost:8080/",
          "height": 500
        },
        "outputId": "b8be201a-e3fb-4fee-8764-56d1d6eeb667"
      },
      "outputs": [
        {
          "output_type": "execute_result",
          "data": {
            "text/plain": [
              "       STATUS   ASK_AMT  IS_SUCCESSFUL  APPLICATION_TYPE_Other  \\\n",
              "0           1      5000              1                       0   \n",
              "1           1    108590              1                       0   \n",
              "2           1      5000              0                       0   \n",
              "3           1      6692              1                       0   \n",
              "4           1    142590              1                       0   \n",
              "...       ...       ...            ...                     ...   \n",
              "34294       1      5000              0                       0   \n",
              "34295       1      5000              0                       0   \n",
              "34296       1      5000              0                       0   \n",
              "34297       1      5000              1                       0   \n",
              "34298       1  36500179              0                       0   \n",
              "\n",
              "       APPLICATION_TYPE_T10  APPLICATION_TYPE_T19  APPLICATION_TYPE_T3  \\\n",
              "0                         1                     0                    0   \n",
              "1                         0                     0                    1   \n",
              "2                         0                     0                    0   \n",
              "3                         0                     0                    1   \n",
              "4                         0                     0                    1   \n",
              "...                     ...                   ...                  ...   \n",
              "34294                     0                     0                    0   \n",
              "34295                     0                     0                    0   \n",
              "34296                     0                     0                    1   \n",
              "34297                     0                     0                    0   \n",
              "34298                     0                     0                    1   \n",
              "\n",
              "       APPLICATION_TYPE_T4  APPLICATION_TYPE_T5  APPLICATION_TYPE_T6  ...  \\\n",
              "0                        0                    0                    0  ...   \n",
              "1                        0                    0                    0  ...   \n",
              "2                        0                    1                    0  ...   \n",
              "3                        0                    0                    0  ...   \n",
              "4                        0                    0                    0  ...   \n",
              "...                    ...                  ...                  ...  ...   \n",
              "34294                    1                    0                    0  ...   \n",
              "34295                    1                    0                    0  ...   \n",
              "34296                    0                    0                    0  ...   \n",
              "34297                    0                    1                    0  ...   \n",
              "34298                    0                    0                    0  ...   \n",
              "\n",
              "       INCOME_AMT_1-9999  INCOME_AMT_10000-24999  INCOME_AMT_100000-499999  \\\n",
              "0                      0                       0                         0   \n",
              "1                      1                       0                         0   \n",
              "2                      0                       0                         0   \n",
              "3                      0                       1                         0   \n",
              "4                      0                       0                         1   \n",
              "...                  ...                     ...                       ...   \n",
              "34294                  0                       0                         0   \n",
              "34295                  0                       0                         0   \n",
              "34296                  0                       0                         0   \n",
              "34297                  0                       0                         0   \n",
              "34298                  0                       0                         0   \n",
              "\n",
              "       INCOME_AMT_10M-50M  INCOME_AMT_1M-5M  INCOME_AMT_25000-99999  \\\n",
              "0                       0                 0                       0   \n",
              "1                       0                 0                       0   \n",
              "2                       0                 0                       0   \n",
              "3                       0                 0                       0   \n",
              "4                       0                 0                       0   \n",
              "...                   ...               ...                     ...   \n",
              "34294                   0                 0                       0   \n",
              "34295                   0                 0                       0   \n",
              "34296                   0                 0                       0   \n",
              "34297                   0                 0                       0   \n",
              "34298                   0                 1                       0   \n",
              "\n",
              "       INCOME_AMT_50M+  INCOME_AMT_5M-10M  SPECIAL_CONSIDERATIONS_N  \\\n",
              "0                    0                  0                         1   \n",
              "1                    0                  0                         1   \n",
              "2                    0                  0                         1   \n",
              "3                    0                  0                         1   \n",
              "4                    0                  0                         1   \n",
              "...                ...                ...                       ...   \n",
              "34294                0                  0                         1   \n",
              "34295                0                  0                         1   \n",
              "34296                0                  0                         1   \n",
              "34297                0                  0                         1   \n",
              "34298                0                  0                         1   \n",
              "\n",
              "       SPECIAL_CONSIDERATIONS_Y  \n",
              "0                             0  \n",
              "1                             0  \n",
              "2                             0  \n",
              "3                             0  \n",
              "4                             0  \n",
              "...                         ...  \n",
              "34294                         0  \n",
              "34295                         0  \n",
              "34296                         0  \n",
              "34297                         0  \n",
              "34298                         0  \n",
              "\n",
              "[34299 rows x 51 columns]"
            ],
            "text/html": [
              "\n",
              "  <div id=\"df-ce5325b1-3e53-4b7b-bc62-9007dee210b0\">\n",
              "    <div class=\"colab-df-container\">\n",
              "      <div>\n",
              "<style scoped>\n",
              "    .dataframe tbody tr th:only-of-type {\n",
              "        vertical-align: middle;\n",
              "    }\n",
              "\n",
              "    .dataframe tbody tr th {\n",
              "        vertical-align: top;\n",
              "    }\n",
              "\n",
              "    .dataframe thead th {\n",
              "        text-align: right;\n",
              "    }\n",
              "</style>\n",
              "<table border=\"1\" class=\"dataframe\">\n",
              "  <thead>\n",
              "    <tr style=\"text-align: right;\">\n",
              "      <th></th>\n",
              "      <th>STATUS</th>\n",
              "      <th>ASK_AMT</th>\n",
              "      <th>IS_SUCCESSFUL</th>\n",
              "      <th>APPLICATION_TYPE_Other</th>\n",
              "      <th>APPLICATION_TYPE_T10</th>\n",
              "      <th>APPLICATION_TYPE_T19</th>\n",
              "      <th>APPLICATION_TYPE_T3</th>\n",
              "      <th>APPLICATION_TYPE_T4</th>\n",
              "      <th>APPLICATION_TYPE_T5</th>\n",
              "      <th>APPLICATION_TYPE_T6</th>\n",
              "      <th>...</th>\n",
              "      <th>INCOME_AMT_1-9999</th>\n",
              "      <th>INCOME_AMT_10000-24999</th>\n",
              "      <th>INCOME_AMT_100000-499999</th>\n",
              "      <th>INCOME_AMT_10M-50M</th>\n",
              "      <th>INCOME_AMT_1M-5M</th>\n",
              "      <th>INCOME_AMT_25000-99999</th>\n",
              "      <th>INCOME_AMT_50M+</th>\n",
              "      <th>INCOME_AMT_5M-10M</th>\n",
              "      <th>SPECIAL_CONSIDERATIONS_N</th>\n",
              "      <th>SPECIAL_CONSIDERATIONS_Y</th>\n",
              "    </tr>\n",
              "  </thead>\n",
              "  <tbody>\n",
              "    <tr>\n",
              "      <th>0</th>\n",
              "      <td>1</td>\n",
              "      <td>5000</td>\n",
              "      <td>1</td>\n",
              "      <td>0</td>\n",
              "      <td>1</td>\n",
              "      <td>0</td>\n",
              "      <td>0</td>\n",
              "      <td>0</td>\n",
              "      <td>0</td>\n",
              "      <td>0</td>\n",
              "      <td>...</td>\n",
              "      <td>0</td>\n",
              "      <td>0</td>\n",
              "      <td>0</td>\n",
              "      <td>0</td>\n",
              "      <td>0</td>\n",
              "      <td>0</td>\n",
              "      <td>0</td>\n",
              "      <td>0</td>\n",
              "      <td>1</td>\n",
              "      <td>0</td>\n",
              "    </tr>\n",
              "    <tr>\n",
              "      <th>1</th>\n",
              "      <td>1</td>\n",
              "      <td>108590</td>\n",
              "      <td>1</td>\n",
              "      <td>0</td>\n",
              "      <td>0</td>\n",
              "      <td>0</td>\n",
              "      <td>1</td>\n",
              "      <td>0</td>\n",
              "      <td>0</td>\n",
              "      <td>0</td>\n",
              "      <td>...</td>\n",
              "      <td>1</td>\n",
              "      <td>0</td>\n",
              "      <td>0</td>\n",
              "      <td>0</td>\n",
              "      <td>0</td>\n",
              "      <td>0</td>\n",
              "      <td>0</td>\n",
              "      <td>0</td>\n",
              "      <td>1</td>\n",
              "      <td>0</td>\n",
              "    </tr>\n",
              "    <tr>\n",
              "      <th>2</th>\n",
              "      <td>1</td>\n",
              "      <td>5000</td>\n",
              "      <td>0</td>\n",
              "      <td>0</td>\n",
              "      <td>0</td>\n",
              "      <td>0</td>\n",
              "      <td>0</td>\n",
              "      <td>0</td>\n",
              "      <td>1</td>\n",
              "      <td>0</td>\n",
              "      <td>...</td>\n",
              "      <td>0</td>\n",
              "      <td>0</td>\n",
              "      <td>0</td>\n",
              "      <td>0</td>\n",
              "      <td>0</td>\n",
              "      <td>0</td>\n",
              "      <td>0</td>\n",
              "      <td>0</td>\n",
              "      <td>1</td>\n",
              "      <td>0</td>\n",
              "    </tr>\n",
              "    <tr>\n",
              "      <th>3</th>\n",
              "      <td>1</td>\n",
              "      <td>6692</td>\n",
              "      <td>1</td>\n",
              "      <td>0</td>\n",
              "      <td>0</td>\n",
              "      <td>0</td>\n",
              "      <td>1</td>\n",
              "      <td>0</td>\n",
              "      <td>0</td>\n",
              "      <td>0</td>\n",
              "      <td>...</td>\n",
              "      <td>0</td>\n",
              "      <td>1</td>\n",
              "      <td>0</td>\n",
              "      <td>0</td>\n",
              "      <td>0</td>\n",
              "      <td>0</td>\n",
              "      <td>0</td>\n",
              "      <td>0</td>\n",
              "      <td>1</td>\n",
              "      <td>0</td>\n",
              "    </tr>\n",
              "    <tr>\n",
              "      <th>4</th>\n",
              "      <td>1</td>\n",
              "      <td>142590</td>\n",
              "      <td>1</td>\n",
              "      <td>0</td>\n",
              "      <td>0</td>\n",
              "      <td>0</td>\n",
              "      <td>1</td>\n",
              "      <td>0</td>\n",
              "      <td>0</td>\n",
              "      <td>0</td>\n",
              "      <td>...</td>\n",
              "      <td>0</td>\n",
              "      <td>0</td>\n",
              "      <td>1</td>\n",
              "      <td>0</td>\n",
              "      <td>0</td>\n",
              "      <td>0</td>\n",
              "      <td>0</td>\n",
              "      <td>0</td>\n",
              "      <td>1</td>\n",
              "      <td>0</td>\n",
              "    </tr>\n",
              "    <tr>\n",
              "      <th>...</th>\n",
              "      <td>...</td>\n",
              "      <td>...</td>\n",
              "      <td>...</td>\n",
              "      <td>...</td>\n",
              "      <td>...</td>\n",
              "      <td>...</td>\n",
              "      <td>...</td>\n",
              "      <td>...</td>\n",
              "      <td>...</td>\n",
              "      <td>...</td>\n",
              "      <td>...</td>\n",
              "      <td>...</td>\n",
              "      <td>...</td>\n",
              "      <td>...</td>\n",
              "      <td>...</td>\n",
              "      <td>...</td>\n",
              "      <td>...</td>\n",
              "      <td>...</td>\n",
              "      <td>...</td>\n",
              "      <td>...</td>\n",
              "      <td>...</td>\n",
              "    </tr>\n",
              "    <tr>\n",
              "      <th>34294</th>\n",
              "      <td>1</td>\n",
              "      <td>5000</td>\n",
              "      <td>0</td>\n",
              "      <td>0</td>\n",
              "      <td>0</td>\n",
              "      <td>0</td>\n",
              "      <td>0</td>\n",
              "      <td>1</td>\n",
              "      <td>0</td>\n",
              "      <td>0</td>\n",
              "      <td>...</td>\n",
              "      <td>0</td>\n",
              "      <td>0</td>\n",
              "      <td>0</td>\n",
              "      <td>0</td>\n",
              "      <td>0</td>\n",
              "      <td>0</td>\n",
              "      <td>0</td>\n",
              "      <td>0</td>\n",
              "      <td>1</td>\n",
              "      <td>0</td>\n",
              "    </tr>\n",
              "    <tr>\n",
              "      <th>34295</th>\n",
              "      <td>1</td>\n",
              "      <td>5000</td>\n",
              "      <td>0</td>\n",
              "      <td>0</td>\n",
              "      <td>0</td>\n",
              "      <td>0</td>\n",
              "      <td>0</td>\n",
              "      <td>1</td>\n",
              "      <td>0</td>\n",
              "      <td>0</td>\n",
              "      <td>...</td>\n",
              "      <td>0</td>\n",
              "      <td>0</td>\n",
              "      <td>0</td>\n",
              "      <td>0</td>\n",
              "      <td>0</td>\n",
              "      <td>0</td>\n",
              "      <td>0</td>\n",
              "      <td>0</td>\n",
              "      <td>1</td>\n",
              "      <td>0</td>\n",
              "    </tr>\n",
              "    <tr>\n",
              "      <th>34296</th>\n",
              "      <td>1</td>\n",
              "      <td>5000</td>\n",
              "      <td>0</td>\n",
              "      <td>0</td>\n",
              "      <td>0</td>\n",
              "      <td>0</td>\n",
              "      <td>1</td>\n",
              "      <td>0</td>\n",
              "      <td>0</td>\n",
              "      <td>0</td>\n",
              "      <td>...</td>\n",
              "      <td>0</td>\n",
              "      <td>0</td>\n",
              "      <td>0</td>\n",
              "      <td>0</td>\n",
              "      <td>0</td>\n",
              "      <td>0</td>\n",
              "      <td>0</td>\n",
              "      <td>0</td>\n",
              "      <td>1</td>\n",
              "      <td>0</td>\n",
              "    </tr>\n",
              "    <tr>\n",
              "      <th>34297</th>\n",
              "      <td>1</td>\n",
              "      <td>5000</td>\n",
              "      <td>1</td>\n",
              "      <td>0</td>\n",
              "      <td>0</td>\n",
              "      <td>0</td>\n",
              "      <td>0</td>\n",
              "      <td>0</td>\n",
              "      <td>1</td>\n",
              "      <td>0</td>\n",
              "      <td>...</td>\n",
              "      <td>0</td>\n",
              "      <td>0</td>\n",
              "      <td>0</td>\n",
              "      <td>0</td>\n",
              "      <td>0</td>\n",
              "      <td>0</td>\n",
              "      <td>0</td>\n",
              "      <td>0</td>\n",
              "      <td>1</td>\n",
              "      <td>0</td>\n",
              "    </tr>\n",
              "    <tr>\n",
              "      <th>34298</th>\n",
              "      <td>1</td>\n",
              "      <td>36500179</td>\n",
              "      <td>0</td>\n",
              "      <td>0</td>\n",
              "      <td>0</td>\n",
              "      <td>0</td>\n",
              "      <td>1</td>\n",
              "      <td>0</td>\n",
              "      <td>0</td>\n",
              "      <td>0</td>\n",
              "      <td>...</td>\n",
              "      <td>0</td>\n",
              "      <td>0</td>\n",
              "      <td>0</td>\n",
              "      <td>0</td>\n",
              "      <td>1</td>\n",
              "      <td>0</td>\n",
              "      <td>0</td>\n",
              "      <td>0</td>\n",
              "      <td>1</td>\n",
              "      <td>0</td>\n",
              "    </tr>\n",
              "  </tbody>\n",
              "</table>\n",
              "<p>34299 rows × 51 columns</p>\n",
              "</div>\n",
              "      <button class=\"colab-df-convert\" onclick=\"convertToInteractive('df-ce5325b1-3e53-4b7b-bc62-9007dee210b0')\"\n",
              "              title=\"Convert this dataframe to an interactive table.\"\n",
              "              style=\"display:none;\">\n",
              "        \n",
              "  <svg xmlns=\"http://www.w3.org/2000/svg\" height=\"24px\"viewBox=\"0 0 24 24\"\n",
              "       width=\"24px\">\n",
              "    <path d=\"M0 0h24v24H0V0z\" fill=\"none\"/>\n",
              "    <path d=\"M18.56 5.44l.94 2.06.94-2.06 2.06-.94-2.06-.94-.94-2.06-.94 2.06-2.06.94zm-11 1L8.5 8.5l.94-2.06 2.06-.94-2.06-.94L8.5 2.5l-.94 2.06-2.06.94zm10 10l.94 2.06.94-2.06 2.06-.94-2.06-.94-.94-2.06-.94 2.06-2.06.94z\"/><path d=\"M17.41 7.96l-1.37-1.37c-.4-.4-.92-.59-1.43-.59-.52 0-1.04.2-1.43.59L10.3 9.45l-7.72 7.72c-.78.78-.78 2.05 0 2.83L4 21.41c.39.39.9.59 1.41.59.51 0 1.02-.2 1.41-.59l7.78-7.78 2.81-2.81c.8-.78.8-2.07 0-2.86zM5.41 20L4 18.59l7.72-7.72 1.47 1.35L5.41 20z\"/>\n",
              "  </svg>\n",
              "      </button>\n",
              "      \n",
              "  <style>\n",
              "    .colab-df-container {\n",
              "      display:flex;\n",
              "      flex-wrap:wrap;\n",
              "      gap: 12px;\n",
              "    }\n",
              "\n",
              "    .colab-df-convert {\n",
              "      background-color: #E8F0FE;\n",
              "      border: none;\n",
              "      border-radius: 50%;\n",
              "      cursor: pointer;\n",
              "      display: none;\n",
              "      fill: #1967D2;\n",
              "      height: 32px;\n",
              "      padding: 0 0 0 0;\n",
              "      width: 32px;\n",
              "    }\n",
              "\n",
              "    .colab-df-convert:hover {\n",
              "      background-color: #E2EBFA;\n",
              "      box-shadow: 0px 1px 2px rgba(60, 64, 67, 0.3), 0px 1px 3px 1px rgba(60, 64, 67, 0.15);\n",
              "      fill: #174EA6;\n",
              "    }\n",
              "\n",
              "    [theme=dark] .colab-df-convert {\n",
              "      background-color: #3B4455;\n",
              "      fill: #D2E3FC;\n",
              "    }\n",
              "\n",
              "    [theme=dark] .colab-df-convert:hover {\n",
              "      background-color: #434B5C;\n",
              "      box-shadow: 0px 1px 3px 1px rgba(0, 0, 0, 0.15);\n",
              "      filter: drop-shadow(0px 1px 2px rgba(0, 0, 0, 0.3));\n",
              "      fill: #FFFFFF;\n",
              "    }\n",
              "  </style>\n",
              "\n",
              "      <script>\n",
              "        const buttonEl =\n",
              "          document.querySelector('#df-ce5325b1-3e53-4b7b-bc62-9007dee210b0 button.colab-df-convert');\n",
              "        buttonEl.style.display =\n",
              "          google.colab.kernel.accessAllowed ? 'block' : 'none';\n",
              "\n",
              "        async function convertToInteractive(key) {\n",
              "          const element = document.querySelector('#df-ce5325b1-3e53-4b7b-bc62-9007dee210b0');\n",
              "          const dataTable =\n",
              "            await google.colab.kernel.invokeFunction('convertToInteractive',\n",
              "                                                     [key], {});\n",
              "          if (!dataTable) return;\n",
              "\n",
              "          const docLinkHtml = 'Like what you see? Visit the ' +\n",
              "            '<a target=\"_blank\" href=https://colab.research.google.com/notebooks/data_table.ipynb>data table notebook</a>'\n",
              "            + ' to learn more about interactive tables.';\n",
              "          element.innerHTML = '';\n",
              "          dataTable['output_type'] = 'display_data';\n",
              "          await google.colab.output.renderOutput(dataTable, element);\n",
              "          const docLink = document.createElement('div');\n",
              "          docLink.innerHTML = docLinkHtml;\n",
              "          element.appendChild(docLink);\n",
              "        }\n",
              "      </script>\n",
              "    </div>\n",
              "  </div>\n",
              "  "
            ]
          },
          "metadata": {},
          "execution_count": 76
        }
      ],
      "source": [
        "# Convert categorical data to numeric with `pd.get_dummies`\n",
        "preprocessed_data = pd.get_dummies(drop_df)\n",
        "preprocessed_data"
      ]
    },
    {
      "cell_type": "code",
      "execution_count": 77,
      "metadata": {
        "id": "JCsdgBB43O7I",
        "colab": {
          "base_uri": "https://localhost:8080/"
        },
        "outputId": "ad019884-bed7-40f6-cfc5-6f2cbcb546cd"
      },
      "outputs": [
        {
          "output_type": "stream",
          "name": "stdout",
          "text": [
            "<class 'pandas.core.frame.DataFrame'>\n",
            "RangeIndex: 34299 entries, 0 to 34298\n",
            "Data columns (total 51 columns):\n",
            " #   Column                        Non-Null Count  Dtype\n",
            "---  ------                        --------------  -----\n",
            " 0   STATUS                        34299 non-null  int64\n",
            " 1   ASK_AMT                       34299 non-null  int64\n",
            " 2   IS_SUCCESSFUL                 34299 non-null  int64\n",
            " 3   APPLICATION_TYPE_Other        34299 non-null  uint8\n",
            " 4   APPLICATION_TYPE_T10          34299 non-null  uint8\n",
            " 5   APPLICATION_TYPE_T19          34299 non-null  uint8\n",
            " 6   APPLICATION_TYPE_T3           34299 non-null  uint8\n",
            " 7   APPLICATION_TYPE_T4           34299 non-null  uint8\n",
            " 8   APPLICATION_TYPE_T5           34299 non-null  uint8\n",
            " 9   APPLICATION_TYPE_T6           34299 non-null  uint8\n",
            " 10  APPLICATION_TYPE_T7           34299 non-null  uint8\n",
            " 11  APPLICATION_TYPE_T8           34299 non-null  uint8\n",
            " 12  APPLICATION_TYPE_T9           34299 non-null  uint8\n",
            " 13  AFFILIATION_CompanySponsored  34299 non-null  uint8\n",
            " 14  AFFILIATION_Family/Parent     34299 non-null  uint8\n",
            " 15  AFFILIATION_Independent       34299 non-null  uint8\n",
            " 16  AFFILIATION_National          34299 non-null  uint8\n",
            " 17  AFFILIATION_Other             34299 non-null  uint8\n",
            " 18  AFFILIATION_Regional          34299 non-null  uint8\n",
            " 19  CLASSIFICATION_C1000          34299 non-null  uint8\n",
            " 20  CLASSIFICATION_C1200          34299 non-null  uint8\n",
            " 21  CLASSIFICATION_C1270          34299 non-null  uint8\n",
            " 22  CLASSIFICATION_C1700          34299 non-null  uint8\n",
            " 23  CLASSIFICATION_C2000          34299 non-null  uint8\n",
            " 24  CLASSIFICATION_C2100          34299 non-null  uint8\n",
            " 25  CLASSIFICATION_C2700          34299 non-null  uint8\n",
            " 26  CLASSIFICATION_C3000          34299 non-null  uint8\n",
            " 27  CLASSIFICATION_C4000          34299 non-null  uint8\n",
            " 28  CLASSIFICATION_C5000          34299 non-null  uint8\n",
            " 29  CLASSIFICATION_C7000          34299 non-null  uint8\n",
            " 30  CLASSIFICATION_Other          34299 non-null  uint8\n",
            " 31  USE_CASE_CommunityServ        34299 non-null  uint8\n",
            " 32  USE_CASE_Heathcare            34299 non-null  uint8\n",
            " 33  USE_CASE_Other                34299 non-null  uint8\n",
            " 34  USE_CASE_Preservation         34299 non-null  uint8\n",
            " 35  USE_CASE_ProductDev           34299 non-null  uint8\n",
            " 36  ORGANIZATION_Association      34299 non-null  uint8\n",
            " 37  ORGANIZATION_Co-operative     34299 non-null  uint8\n",
            " 38  ORGANIZATION_Corporation      34299 non-null  uint8\n",
            " 39  ORGANIZATION_Trust            34299 non-null  uint8\n",
            " 40  INCOME_AMT_0                  34299 non-null  uint8\n",
            " 41  INCOME_AMT_1-9999             34299 non-null  uint8\n",
            " 42  INCOME_AMT_10000-24999        34299 non-null  uint8\n",
            " 43  INCOME_AMT_100000-499999      34299 non-null  uint8\n",
            " 44  INCOME_AMT_10M-50M            34299 non-null  uint8\n",
            " 45  INCOME_AMT_1M-5M              34299 non-null  uint8\n",
            " 46  INCOME_AMT_25000-99999        34299 non-null  uint8\n",
            " 47  INCOME_AMT_50M+               34299 non-null  uint8\n",
            " 48  INCOME_AMT_5M-10M             34299 non-null  uint8\n",
            " 49  SPECIAL_CONSIDERATIONS_N      34299 non-null  uint8\n",
            " 50  SPECIAL_CONSIDERATIONS_Y      34299 non-null  uint8\n",
            "dtypes: int64(3), uint8(48)\n",
            "memory usage: 2.4 MB\n"
          ]
        }
      ],
      "source": [
        "#Check out column names\n",
        "preprocessed_data.info()"
      ]
    },
    {
      "cell_type": "code",
      "source": [
        "# Select the features (X)\n",
        "X = preprocessed_data[['STATUS', 'ASK_AMT', 'APPLICATION_TYPE_Other', 'APPLICATION_TYPE_T10', 'APPLICATION_TYPE_T19', 'APPLICATION_TYPE_T3', 'APPLICATION_TYPE_T4', 'APPLICATION_TYPE_T5', 'APPLICATION_TYPE_T6', 'APPLICATION_TYPE_T7', 'APPLICATION_TYPE_T8', 'APPLICATION_TYPE_T9', 'AFFILIATION_CompanySponsored', 'AFFILIATION_Family/Parent', 'AFFILIATION_Independent', 'AFFILIATION_National', 'AFFILIATION_Other', 'AFFILIATION_Regional', 'CLASSIFICATION_C1000', 'CLASSIFICATION_C1200', 'CLASSIFICATION_C1270', 'CLASSIFICATION_C1700', 'CLASSIFICATION_C2000', 'CLASSIFICATION_C2100', 'CLASSIFICATION_C2700', 'CLASSIFICATION_C3000', 'CLASSIFICATION_C4000', 'CLASSIFICATION_C5000', 'CLASSIFICATION_C7000', 'CLASSIFICATION_Other', 'USE_CASE_CommunityServ', 'USE_CASE_Heathcare', 'USE_CASE_Other', 'USE_CASE_Preservation', 'USE_CASE_ProductDev', 'ORGANIZATION_Association', 'ORGANIZATION_Co-operative', 'ORGANIZATION_Corporation', 'ORGANIZATION_Trust', 'INCOME_AMT_0', 'INCOME_AMT_1-9999', 'INCOME_AMT_10000-24999', 'INCOME_AMT_100000-499999', 'INCOME_AMT_10M-50M', 'INCOME_AMT_1M-5M', 'INCOME_AMT_25000-99999', 'INCOME_AMT_50M+', 'INCOME_AMT_5M-10M', 'SPECIAL_CONSIDERATIONS_N', 'SPECIAL_CONSIDERATIONS_Y']]\n",
        "\n",
        "# Select the target variable (y)\n",
        "y = preprocessed_data['IS_SUCCESSFUL']\n",
        "\n",
        "# Print the shapes of X and y to verify the split\n",
        "print('Shape of features (X):', X.shape)\n",
        "print('Shape of target (y):', y.shape)\n",
        "\n",
        "\n"
      ],
      "metadata": {
        "colab": {
          "base_uri": "https://localhost:8080/"
        },
        "id": "Am_hsEsg19tj",
        "outputId": "1e50d192-d528-4eaa-cb88-ec159fdbe3ef"
      },
      "execution_count": 78,
      "outputs": [
        {
          "output_type": "stream",
          "name": "stdout",
          "text": [
            "Shape of features (X): (34299, 50)\n",
            "Shape of target (y): (34299,)\n"
          ]
        }
      ]
    },
    {
      "cell_type": "code",
      "source": [
        "# Split the data into training and testing sets\n",
        "X_train, X_test, y_train, y_test = train_test_split(X, y, test_size=0.2, random_state=42)\n"
      ],
      "metadata": {
        "id": "mnrx4aWZ4FM4"
      },
      "execution_count": 79,
      "outputs": []
    },
    {
      "cell_type": "code",
      "execution_count": 80,
      "metadata": {
        "id": "dah-u1IY3O7J"
      },
      "outputs": [],
      "source": [
        "# Create a StandardScaler instances\n",
        "scaler = StandardScaler()\n",
        "\n",
        "# Fit the StandardScaler\n",
        "X_scaler = scaler.fit(X_train)\n",
        "\n",
        "# Scale the data\n",
        "X_train_scaled = X_scaler.transform(X_train)\n",
        "X_test_scaled = X_scaler.transform(X_test)"
      ]
    },
    {
      "cell_type": "markdown",
      "metadata": {
        "id": "LYUnhm2_3O7J"
      },
      "source": [
        "## Compile, Train and Evaluate the Model"
      ]
    },
    {
      "cell_type": "code",
      "execution_count": 81,
      "metadata": {
        "id": "Ls54gpGk3O7J",
        "outputId": "8119eccd-252c-433f-e0dd-07588209324f",
        "colab": {
          "base_uri": "https://localhost:8080/"
        }
      },
      "outputs": [
        {
          "output_type": "stream",
          "name": "stdout",
          "text": [
            "Model: \"sequential_20\"\n",
            "_________________________________________________________________\n",
            " Layer (type)                Output Shape              Param #   \n",
            "=================================================================\n",
            " dense_70 (Dense)            (None, 5)                 255       \n",
            "                                                                 \n",
            " dense_71 (Dense)            (None, 10)                60        \n",
            "                                                                 \n",
            " dense_72 (Dense)            (None, 3)                 33        \n",
            "                                                                 \n",
            " dense_73 (Dense)            (None, 1)                 4         \n",
            "                                                                 \n",
            "=================================================================\n",
            "Total params: 352\n",
            "Trainable params: 352\n",
            "Non-trainable params: 0\n",
            "_________________________________________________________________\n"
          ]
        }
      ],
      "source": [
        "# Define the model - deep neural net, i.e., the number of input features and hidden nodes for each layer.\n",
        "nn_model = tf.keras.models.Sequential()\n",
        "\n",
        "# First hidden layer\n",
        "layer = tf.keras.layers.Dense(units=5, activation=\"relu\", input_dim=50)\n",
        "nn_model.add(layer)\n",
        "\n",
        "\n",
        "# Second hidden layer\n",
        "layer2 = tf.keras.layers.Dense(units=10, activation=\"relu\")\n",
        "nn_model.add(layer2)\n",
        "\n",
        "# Add the third Dense hidden layer with 3 units and ReLU activation\n",
        "layer3 = tf.keras.layers.Dense(units=3, activation=\"relu\")\n",
        "nn_model.add(layer3)\n",
        "\n",
        "# Output layer\n",
        "output_layer = tf.keras.layers.Dense(units=1, activation=\"sigmoid\")\n",
        "nn_model.add(output_layer)\n",
        "\n",
        "# Check the structure of the model\n",
        "nn_model.summary()"
      ]
    },
    {
      "cell_type": "code",
      "source": [
        "# Define the model - deep neural net, i.e., the number of input features and hidden nodes for each layer.\n",
        "nn_model = tf.keras.models.Sequential()\n",
        "\n",
        "# First hidden layer\n",
        "layer = tf.keras.layers.Dense(units=5, activation=\"relu\", input_dim=50)\n",
        "nn_model.add(layer)\n",
        "\n",
        "\n",
        "# Second hidden layer\n",
        "layer2 = tf.keras.layers.Dense(units=10, activation=\"relu\")\n",
        "nn_model.add(layer2)\n",
        "\n",
        "# Add the third Dense hidden layer with 3 units and ReLU activation\n",
        "layer3 = tf.keras.layers.Dense(units=3, activation=\"relu\")\n",
        "nn_model.add(layer3)\n",
        "\n",
        "# Output layer\n",
        "output_layer = tf.keras.layers.Dense(units=1, activation=\"sigmoid\")\n",
        "nn_model.add(output_layer)\n",
        "\n",
        "# Check the structure of the model\n",
        "nn_model.summary()"
      ],
      "metadata": {
        "colab": {
          "base_uri": "https://localhost:8080/"
        },
        "id": "bGmd8m2v4w4l",
        "outputId": "fd86c3f0-a84c-4e58-8aba-255ad7d50cba"
      },
      "execution_count": 82,
      "outputs": [
        {
          "output_type": "stream",
          "name": "stdout",
          "text": [
            "Model: \"sequential_21\"\n",
            "_________________________________________________________________\n",
            " Layer (type)                Output Shape              Param #   \n",
            "=================================================================\n",
            " dense_74 (Dense)            (None, 5)                 255       \n",
            "                                                                 \n",
            " dense_75 (Dense)            (None, 10)                60        \n",
            "                                                                 \n",
            " dense_76 (Dense)            (None, 3)                 33        \n",
            "                                                                 \n",
            " dense_77 (Dense)            (None, 1)                 4         \n",
            "                                                                 \n",
            "=================================================================\n",
            "Total params: 352\n",
            "Trainable params: 352\n",
            "Non-trainable params: 0\n",
            "_________________________________________________________________\n"
          ]
        }
      ]
    },
    {
      "cell_type": "code",
      "execution_count": 83,
      "metadata": {
        "id": "H1zIpUep3O7K"
      },
      "outputs": [],
      "source": [
        "# Compile the model\n",
        "nn_model.compile(loss=\"binary_crossentropy\", optimizer=\"adam\", metrics=[\"accuracy\"])"
      ]
    },
    {
      "cell_type": "code",
      "execution_count": 84,
      "metadata": {
        "id": "D6YzXVSP3O7K",
        "outputId": "b85018cc-557f-435e-a108-2bf5f4603468",
        "colab": {
          "base_uri": "https://localhost:8080/"
        }
      },
      "outputs": [
        {
          "output_type": "stream",
          "name": "stdout",
          "text": [
            "Epoch 1/20\n",
            "858/858 [==============================] - 2s 2ms/step - loss: 0.6304 - accuracy: 0.6655\n",
            "Epoch 2/20\n",
            "858/858 [==============================] - 2s 2ms/step - loss: 0.5727 - accuracy: 0.7216\n",
            "Epoch 3/20\n",
            "858/858 [==============================] - 2s 2ms/step - loss: 0.5614 - accuracy: 0.7231\n",
            "Epoch 4/20\n",
            "858/858 [==============================] - 2s 2ms/step - loss: 0.5548 - accuracy: 0.7277\n",
            "Epoch 5/20\n",
            "858/858 [==============================] - 2s 2ms/step - loss: 0.5523 - accuracy: 0.7301\n",
            "Epoch 6/20\n",
            "858/858 [==============================] - 2s 3ms/step - loss: 0.5509 - accuracy: 0.7313\n",
            "Epoch 7/20\n",
            "858/858 [==============================] - 2s 2ms/step - loss: 0.5501 - accuracy: 0.7317\n",
            "Epoch 8/20\n",
            "858/858 [==============================] - 2s 2ms/step - loss: 0.5493 - accuracy: 0.7323\n",
            "Epoch 9/20\n",
            "858/858 [==============================] - 2s 2ms/step - loss: 0.5490 - accuracy: 0.7319\n",
            "Epoch 10/20\n",
            "858/858 [==============================] - 2s 2ms/step - loss: 0.5482 - accuracy: 0.7319\n",
            "Epoch 11/20\n",
            "858/858 [==============================] - 2s 2ms/step - loss: 0.5481 - accuracy: 0.7317\n",
            "Epoch 12/20\n",
            "858/858 [==============================] - 2s 2ms/step - loss: 0.5480 - accuracy: 0.7326\n",
            "Epoch 13/20\n",
            "858/858 [==============================] - 2s 2ms/step - loss: 0.5471 - accuracy: 0.7318\n",
            "Epoch 14/20\n",
            "858/858 [==============================] - 2s 3ms/step - loss: 0.5474 - accuracy: 0.7318\n",
            "Epoch 15/20\n",
            "858/858 [==============================] - 2s 2ms/step - loss: 0.5472 - accuracy: 0.7311\n",
            "Epoch 16/20\n",
            "858/858 [==============================] - 2s 2ms/step - loss: 0.5468 - accuracy: 0.7319\n",
            "Epoch 17/20\n",
            "858/858 [==============================] - 2s 2ms/step - loss: 0.5467 - accuracy: 0.7321\n",
            "Epoch 18/20\n",
            "858/858 [==============================] - 1s 2ms/step - loss: 0.5464 - accuracy: 0.7319\n",
            "Epoch 19/20\n",
            "858/858 [==============================] - 2s 2ms/step - loss: 0.5461 - accuracy: 0.7324\n",
            "Epoch 20/20\n",
            "858/858 [==============================] - 1s 2ms/step - loss: 0.5461 - accuracy: 0.7322\n"
          ]
        }
      ],
      "source": [
        "# Train the model\n",
        "fit_model = nn_model.fit(X_train_scaled, y_train, epochs=20, verbose=1)\n"
      ]
    },
    {
      "cell_type": "code",
      "execution_count": 85,
      "metadata": {
        "id": "h-9z0CwP3O7K",
        "outputId": "c0e3b6be-ad24-4e14-81eb-de9711b19a17",
        "colab": {
          "base_uri": "https://localhost:8080/"
        }
      },
      "outputs": [
        {
          "output_type": "stream",
          "name": "stdout",
          "text": [
            "215/215 - 0s - loss: 0.5569 - accuracy: 0.7208 - 372ms/epoch - 2ms/step\n",
            "Loss: 0.556915283203125, Accuracy: 0.7208454608917236\n"
          ]
        }
      ],
      "source": [
        "# Evaluate the model using the test data\n",
        "model_loss, model_accuracy = nn_model.evaluate(X_test_scaled,y_test,verbose=2)\n",
        "print(f\"Loss: {model_loss}, Accuracy: {model_accuracy}\")"
      ]
    },
    {
      "cell_type": "code",
      "source": [
        "# Define the model\n",
        "model = tf.keras.models.Sequential()\n",
        "\n",
        "# Add the input layer\n",
        "model.add(tf.keras.layers.Dense(units=10, activation='relu', input_dim=50))\n",
        "\n",
        "# Add a dropout layer after the first hidden layer\n",
        "model.add(tf.keras.layers.Dropout(rate=0.2))\n",
        "\n",
        "# Add the second hidden layer\n",
        "model.add(tf.keras.layers.Dense(units=5, activation='relu'))\n",
        "\n",
        "# Add a dropout layer after the second hidden layer\n",
        "model.add(tf.keras.layers.Dropout(rate=0.2))\n",
        "\n",
        "# Add the output layer\n",
        "model.add(tf.keras.layers.Dense(units=1, activation='sigmoid'))\n",
        "\n",
        "# Compile the model\n",
        "model.compile(optimizer='adam', loss='binary_crossentropy', metrics=['accuracy'])\n",
        "\n",
        "# Train the model\n",
        "model.fit(X_train, y_train, epochs=10, batch_size=32)\n"
      ],
      "metadata": {
        "colab": {
          "base_uri": "https://localhost:8080/"
        },
        "id": "7wrgUHCs-suI",
        "outputId": "cc101544-95ae-4374-9045-8022ee1bf3e5"
      },
      "execution_count": 86,
      "outputs": [
        {
          "output_type": "stream",
          "name": "stdout",
          "text": [
            "Epoch 1/10\n",
            "858/858 [==============================] - 2s 2ms/step - loss: 52401.7695 - accuracy: 0.4786\n",
            "Epoch 2/10\n",
            "858/858 [==============================] - 3s 3ms/step - loss: 17424.2070 - accuracy: 0.4934\n",
            "Epoch 3/10\n",
            "858/858 [==============================] - 3s 3ms/step - loss: 3535.2319 - accuracy: 0.4849\n",
            "Epoch 4/10\n",
            "858/858 [==============================] - 2s 2ms/step - loss: 6064.0962 - accuracy: 0.5077\n",
            "Epoch 5/10\n",
            "858/858 [==============================] - 1s 2ms/step - loss: 303.3529 - accuracy: 0.5215\n",
            "Epoch 6/10\n",
            "858/858 [==============================] - 1s 2ms/step - loss: 426.3533 - accuracy: 0.5281\n",
            "Epoch 7/10\n",
            "858/858 [==============================] - 1s 2ms/step - loss: 484.0097 - accuracy: 0.5215\n",
            "Epoch 8/10\n",
            "858/858 [==============================] - 1s 2ms/step - loss: 123.2656 - accuracy: 0.5238\n",
            "Epoch 9/10\n",
            "858/858 [==============================] - 1s 2ms/step - loss: 60.2581 - accuracy: 0.5259\n",
            "Epoch 10/10\n",
            "858/858 [==============================] - 1s 2ms/step - loss: 33.7331 - accuracy: 0.5240\n"
          ]
        },
        {
          "output_type": "execute_result",
          "data": {
            "text/plain": [
              "<keras.callbacks.History at 0x7f7280386f80>"
            ]
          },
          "metadata": {},
          "execution_count": 86
        }
      ]
    },
    {
      "cell_type": "code",
      "source": [
        "# Evaluate the model using the test data\n",
        "model_loss, model_accuracy = nn_model.evaluate(X_test_scaled,y_test,verbose=2)\n",
        "print(f\"Loss: {model_loss}, Accuracy: {model_accuracy}\")"
      ],
      "metadata": {
        "colab": {
          "base_uri": "https://localhost:8080/"
        },
        "id": "5ma5kcor_EJB",
        "outputId": "093a0e29-6fdc-4602-d591-b327b7bf6b62"
      },
      "execution_count": 87,
      "outputs": [
        {
          "output_type": "stream",
          "name": "stdout",
          "text": [
            "215/215 - 0s - loss: 0.5569 - accuracy: 0.7208 - 368ms/epoch - 2ms/step\n",
            "Loss: 0.556915283203125, Accuracy: 0.7208454608917236\n"
          ]
        }
      ]
    },
    {
      "cell_type": "code",
      "source": [
        "# Define the model\n",
        "model = tf.keras.models.Sequential()\n",
        "\n",
        "# Add the input layer\n",
        "model.add(tf.keras.layers.Dense(units=10, activation='relu', input_dim=50))\n",
        "\n",
        "# Add a dropout layer after the first hidden layer\n",
        "model.add(tf.keras.layers.Dropout(rate=0.2))\n",
        "\n",
        "# Add the second hidden layer\n",
        "model.add(tf.keras.layers.Dense(units=5, activation='relu'))\n",
        "\n",
        "# Add a dropout layer after the second hidden layer\n",
        "model.add(tf.keras.layers.Dropout(rate=0.2))\n",
        "\n",
        "# Add the third hidden layer\n",
        "model.add(tf.keras.layers.Dense(units=3, activation='relu'))\n",
        "\n",
        "# Add the output layer\n",
        "model.add(tf.keras.layers.Dense(units=1, activation='sigmoid'))\n",
        "\n",
        "# Compile the model\n",
        "model.compile(optimizer='adam', loss='binary_crossentropy', metrics=['accuracy'])\n",
        "\n",
        "# Train the model\n",
        "model.fit(X_train, y_train, epochs=10, batch_size=5)"
      ],
      "metadata": {
        "colab": {
          "base_uri": "https://localhost:8080/"
        },
        "id": "NryNctmT_JjJ",
        "outputId": "55a7f8cf-1b00-4203-9c9c-3560568c4aa4"
      },
      "execution_count": 90,
      "outputs": [
        {
          "output_type": "stream",
          "name": "stdout",
          "text": [
            "Epoch 1/10\n",
            "5488/5488 [==============================] - 12s 2ms/step - loss: 12.4574 - accuracy: 0.5283\n",
            "Epoch 2/10\n",
            "5488/5488 [==============================] - 10s 2ms/step - loss: 1.6418 - accuracy: 0.5321\n",
            "Epoch 3/10\n",
            "5488/5488 [==============================] - 9s 2ms/step - loss: 1.2994 - accuracy: 0.5319\n",
            "Epoch 4/10\n",
            "5488/5488 [==============================] - 10s 2ms/step - loss: 0.6912 - accuracy: 0.5320\n",
            "Epoch 5/10\n",
            "5488/5488 [==============================] - 10s 2ms/step - loss: 0.6911 - accuracy: 0.5320\n",
            "Epoch 6/10\n",
            "5488/5488 [==============================] - 10s 2ms/step - loss: 0.6912 - accuracy: 0.5320\n",
            "Epoch 7/10\n",
            "5488/5488 [==============================] - 11s 2ms/step - loss: 0.6912 - accuracy: 0.5320\n",
            "Epoch 8/10\n",
            "5488/5488 [==============================] - 9s 2ms/step - loss: 0.6911 - accuracy: 0.5320\n",
            "Epoch 9/10\n",
            "5488/5488 [==============================] - 10s 2ms/step - loss: 0.6911 - accuracy: 0.5320\n",
            "Epoch 10/10\n",
            "5488/5488 [==============================] - 11s 2ms/step - loss: 0.6912 - accuracy: 0.5320\n"
          ]
        },
        {
          "output_type": "execute_result",
          "data": {
            "text/plain": [
              "<keras.callbacks.History at 0x7f7280131240>"
            ]
          },
          "metadata": {},
          "execution_count": 90
        }
      ]
    },
    {
      "cell_type": "code",
      "source": [
        "# Evaluate the model using the test data\n",
        "model_loss, model_accuracy = nn_model.evaluate(X_test_scaled,y_test,verbose=2)\n",
        "print(f\"Loss: {model_loss}, Accuracy: {model_accuracy}\")"
      ],
      "metadata": {
        "colab": {
          "base_uri": "https://localhost:8080/"
        },
        "id": "tWeh_jmZAYjb",
        "outputId": "47ca4798-4732-4ae0-ca3f-63c248ac8cf8"
      },
      "execution_count": 91,
      "outputs": [
        {
          "output_type": "stream",
          "name": "stdout",
          "text": [
            "215/215 - 0s - loss: 0.5569 - accuracy: 0.7208 - 266ms/epoch - 1ms/step\n",
            "Loss: 0.556915283203125, Accuracy: 0.7208454608917236\n"
          ]
        }
      ]
    },
    {
      "cell_type": "code",
      "source": [
        "# Create the model\n",
        "nn_model = Sequential()\n",
        "nn_model.add(Dense(32, input_shape=(50,), activation='relu'))\n",
        "nn_model.add(Dense(16, activation='relu'))\n",
        "nn_model.add(Dense(1, activation='sigmoid'))\n",
        "\n",
        "# Compile the model\n",
        "nn_model.compile(optimizer='adam', loss='hinge', metrics=['accuracy'])\n",
        "\n",
        "# Train the model\n",
        "nn_model.fit(X_train_scaled, y_train, epochs=10, verbose=1)\n",
        "\n"
      ],
      "metadata": {
        "colab": {
          "base_uri": "https://localhost:8080/"
        },
        "id": "Ev0oZd4kBeIQ",
        "outputId": "55209743-2912-4dc6-e11b-7ec8e336c3f4"
      },
      "execution_count": 92,
      "outputs": [
        {
          "output_type": "stream",
          "name": "stdout",
          "text": [
            "Epoch 1/10\n",
            "858/858 [==============================] - 3s 2ms/step - loss: 0.7712 - accuracy: 0.7137\n",
            "Epoch 2/10\n",
            "858/858 [==============================] - 2s 2ms/step - loss: 0.7418 - accuracy: 0.7270\n",
            "Epoch 3/10\n",
            "858/858 [==============================] - 1s 2ms/step - loss: 0.7388 - accuracy: 0.7291\n",
            "Epoch 4/10\n",
            "858/858 [==============================] - 1s 2ms/step - loss: 0.7364 - accuracy: 0.7321\n",
            "Epoch 5/10\n",
            "858/858 [==============================] - 1s 2ms/step - loss: 0.7359 - accuracy: 0.7322\n",
            "Epoch 6/10\n",
            "858/858 [==============================] - 1s 2ms/step - loss: 0.7350 - accuracy: 0.7333\n",
            "Epoch 7/10\n",
            "858/858 [==============================] - 1s 2ms/step - loss: 0.7349 - accuracy: 0.7333\n",
            "Epoch 8/10\n",
            "858/858 [==============================] - 1s 2ms/step - loss: 0.7346 - accuracy: 0.7335\n",
            "Epoch 9/10\n",
            "858/858 [==============================] - 2s 2ms/step - loss: 0.7340 - accuracy: 0.7342\n",
            "Epoch 10/10\n",
            "858/858 [==============================] - 2s 2ms/step - loss: 0.7343 - accuracy: 0.7339\n"
          ]
        },
        {
          "output_type": "execute_result",
          "data": {
            "text/plain": [
              "<keras.callbacks.History at 0x7f727ff17730>"
            ]
          },
          "metadata": {},
          "execution_count": 92
        }
      ]
    },
    {
      "cell_type": "code",
      "source": [
        "# Evaluate the model using the test data\n",
        "model_loss, model_accuracy = nn_model.evaluate(X_test_scaled,y_test,verbose=2)\n",
        "print(f\"Loss: {model_loss}, Accuracy: {model_accuracy}\")"
      ],
      "metadata": {
        "colab": {
          "base_uri": "https://localhost:8080/"
        },
        "id": "AmPBshPWCP8L",
        "outputId": "9c9798ef-a3d3-4f27-de44-5cdd041127d3"
      },
      "execution_count": 93,
      "outputs": [
        {
          "output_type": "stream",
          "name": "stdout",
          "text": [
            "215/215 - 0s - loss: 0.7372 - accuracy: 0.7290 - 373ms/epoch - 2ms/step\n",
            "Loss: 0.7372153401374817, Accuracy: 0.7290087342262268\n"
          ]
        }
      ]
    },
    {
      "cell_type": "code",
      "source": [
        "# Create the model\n",
        "nn_model = Sequential()\n",
        "nn_model.add(Dense(32, input_shape=(50,), activation='relu'))\n",
        "nn_model.add(Dense(16, activation='relu'))\n",
        "nn_model.add(Dense(1, activation='sigmoid'))\n",
        "\n",
        "# Compile the model\n",
        "nn_model.compile(optimizer='RMSprop', loss='binary_crossentropy', metrics=['accuracy'])\n",
        "\n",
        "# Train the model\n",
        "nn_model.fit(X_train_scaled, y_train, epochs=10, verbose=1)\n",
        "\n"
      ],
      "metadata": {
        "colab": {
          "base_uri": "https://localhost:8080/"
        },
        "id": "TqIIEQbdC8Yw",
        "outputId": "0535e17f-e660-4b55-957f-61573abe3677"
      },
      "execution_count": 94,
      "outputs": [
        {
          "output_type": "stream",
          "name": "stdout",
          "text": [
            "Epoch 1/10\n",
            "858/858 [==============================] - 34s 2ms/step - loss: 0.5827 - accuracy: 0.7111\n",
            "Epoch 2/10\n",
            "858/858 [==============================] - 1s 2ms/step - loss: 0.5574 - accuracy: 0.7279\n",
            "Epoch 3/10\n",
            "858/858 [==============================] - 1s 2ms/step - loss: 0.5544 - accuracy: 0.7292\n",
            "Epoch 4/10\n",
            "858/858 [==============================] - 1s 2ms/step - loss: 0.5524 - accuracy: 0.7294\n",
            "Epoch 5/10\n",
            "858/858 [==============================] - 1s 2ms/step - loss: 0.5516 - accuracy: 0.7293\n",
            "Epoch 6/10\n",
            "858/858 [==============================] - 2s 2ms/step - loss: 0.5501 - accuracy: 0.7296\n",
            "Epoch 7/10\n",
            "858/858 [==============================] - 2s 2ms/step - loss: 0.5488 - accuracy: 0.7302\n",
            "Epoch 8/10\n",
            "858/858 [==============================] - 1s 2ms/step - loss: 0.5485 - accuracy: 0.7316\n",
            "Epoch 9/10\n",
            "858/858 [==============================] - 1s 2ms/step - loss: 0.5481 - accuracy: 0.7320\n",
            "Epoch 10/10\n",
            "858/858 [==============================] - 1s 2ms/step - loss: 0.5487 - accuracy: 0.7315\n"
          ]
        },
        {
          "output_type": "execute_result",
          "data": {
            "text/plain": [
              "<keras.callbacks.History at 0x7f727e7d27a0>"
            ]
          },
          "metadata": {},
          "execution_count": 94
        }
      ]
    },
    {
      "cell_type": "code",
      "source": [
        "# Evaluate the model using the test data\n",
        "model_loss, model_accuracy = nn_model.evaluate(X_test_scaled,y_test,verbose=2)\n",
        "print(f\"Loss: {model_loss}, Accuracy: {model_accuracy}\")"
      ],
      "metadata": {
        "colab": {
          "base_uri": "https://localhost:8080/"
        },
        "id": "0TIysg3TDRDF",
        "outputId": "7ffef042-be04-47e8-dee0-5f6f2ce3e6c1"
      },
      "execution_count": 95,
      "outputs": [
        {
          "output_type": "stream",
          "name": "stdout",
          "text": [
            "215/215 - 0s - loss: 0.5579 - accuracy: 0.7265 - 386ms/epoch - 2ms/step\n",
            "Loss: 0.5579455494880676, Accuracy: 0.7265306115150452\n"
          ]
        }
      ]
    },
    {
      "cell_type": "code",
      "source": [
        "# Create the model\n",
        "nn_model = Sequential()\n",
        "nn_model.add(Dense(32, input_shape=(50,), activation='relu'))\n",
        "nn_model.add(Dense(16, activation='relu'))\n",
        "nn_model.add(Dense(1, activation='sigmoid'))\n",
        "\n",
        "# Compile the model\n",
        "nn_model.compile(loss='binary_crossentropy', optimizer='adam', metrics=['accuracy'])\n",
        "\n",
        "# Train the model\n",
        "fit_model = nn_model.fit(X_train_scaled, y_train, epochs=10, verbose=1)\n"
      ],
      "metadata": {
        "colab": {
          "base_uri": "https://localhost:8080/"
        },
        "id": "EMHrhv4oDXcM",
        "outputId": "3ebf6370-a6a0-4b8e-c32d-76eba87c4e6f"
      },
      "execution_count": 67,
      "outputs": [
        {
          "output_type": "stream",
          "name": "stdout",
          "text": [
            "Epoch 1/10\n",
            "858/858 [==============================] - 2s 2ms/step - loss: 0.5779 - accuracy: 0.7156\n",
            "Epoch 2/10\n",
            "858/858 [==============================] - 1s 2ms/step - loss: 0.5540 - accuracy: 0.7285\n",
            "Epoch 3/10\n",
            "858/858 [==============================] - 2s 2ms/step - loss: 0.5512 - accuracy: 0.7295\n",
            "Epoch 4/10\n",
            "858/858 [==============================] - 2s 2ms/step - loss: 0.5494 - accuracy: 0.7308\n",
            "Epoch 5/10\n",
            "858/858 [==============================] - 1s 2ms/step - loss: 0.5476 - accuracy: 0.7314\n",
            "Epoch 6/10\n",
            "858/858 [==============================] - 1s 2ms/step - loss: 0.5467 - accuracy: 0.7314\n",
            "Epoch 7/10\n",
            "858/858 [==============================] - 1s 2ms/step - loss: 0.5463 - accuracy: 0.7324\n",
            "Epoch 8/10\n",
            "858/858 [==============================] - 1s 2ms/step - loss: 0.5449 - accuracy: 0.7332\n",
            "Epoch 9/10\n",
            "858/858 [==============================] - 1s 2ms/step - loss: 0.5449 - accuracy: 0.7330\n",
            "Epoch 10/10\n",
            "858/858 [==============================] - 1s 2ms/step - loss: 0.5441 - accuracy: 0.7348\n"
          ]
        }
      ]
    },
    {
      "cell_type": "code",
      "source": [
        "# Evaluate the model using the test data\n",
        "model_loss, model_accuracy = nn_model.evaluate(X_test_scaled,y_test,verbose=2)\n",
        "print(f\"Loss: {model_loss}, Accuracy: {model_accuracy}\")"
      ],
      "metadata": {
        "colab": {
          "base_uri": "https://localhost:8080/"
        },
        "id": "YYo-QTwMDrX_",
        "outputId": "e9d21add-c9f5-489e-82a2-9d33b9e56b2a"
      },
      "execution_count": 68,
      "outputs": [
        {
          "output_type": "stream",
          "name": "stdout",
          "text": [
            "215/215 - 1s - loss: 0.5554 - accuracy: 0.7232 - 1s/epoch - 6ms/step\n",
            "Loss: 0.5553854703903198, Accuracy: 0.7231778502464294\n"
          ]
        }
      ]
    },
    {
      "cell_type": "code",
      "execution_count": 96,
      "metadata": {
        "id": "ZecTkX7u3O7L"
      },
      "outputs": [],
      "source": [
        "# Save the model\n",
        "nn_model.save(\"AlphabetSoupCharity_Optimization.h5\")\n"
      ]
    },
    {
      "cell_type": "code",
      "source": [],
      "metadata": {
        "id": "8zh-Ztcj_IrZ"
      },
      "execution_count": null,
      "outputs": []
    },
    {
      "cell_type": "code",
      "source": [],
      "metadata": {
        "id": "E7pnTL3B_DLF"
      },
      "execution_count": null,
      "outputs": []
    }
  ],
  "metadata": {
    "kernelspec": {
      "display_name": "Python 3",
      "language": "python",
      "name": "python3"
    },
    "language_info": {
      "codemirror_mode": {
        "name": "ipython",
        "version": 3
      },
      "file_extension": ".py",
      "mimetype": "text/x-python",
      "name": "python",
      "nbconvert_exporter": "python",
      "pygments_lexer": "ipython3",
      "version": "3.9.6 (default, Mar 10 2023, 20:16:38) \n[Clang 14.0.3 (clang-1403.0.22.14.1)]"
    },
    "vscode": {
      "interpreter": {
        "hash": "31f2aee4e71d21fbe5cf8b01ff0e069b9275f58929596ceb00d14d90e3e16cd6"
      }
    },
    "colab": {
      "provenance": []
    }
  },
  "nbformat": 4,
  "nbformat_minor": 0
}